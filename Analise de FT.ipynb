{
 "cells": [
  {
   "cell_type": "markdown",
   "id": "9767b3f7",
   "metadata": {},
   "source": [
    "<h1>Análise de Sistemas</h1>\n",
    "<br>\n",
    "<h3>Objetivos</h3>\n",
    "<p>Numeros Complexos</p>\n",
    "<p>Resposta em frequência, Diag. de Bode, Identificação de polos e zeros</p>\n",
    "<p>Conversão para o domínio do tempo</p>"
   ]
  },
  {
   "cell_type": "markdown",
   "id": "1722325a",
   "metadata": {},
   "source": [
    "<h3>Importando Libs</h3>"
   ]
  },
  {
   "cell_type": "code",
   "execution_count": 48,
   "id": "83aae2cf",
   "metadata": {},
   "outputs": [],
   "source": [
    "from IPython.display import display, Latex\n",
    "import numpy as np\n",
    "import sympy as sp\n",
    "from sympy.codegen.cfunctions import log10\n",
    "import matplotlib.pyplot as plt\n",
    "import math"
   ]
  },
  {
   "cell_type": "markdown",
   "id": "ef1b8bcb",
   "metadata": {},
   "source": [
    "<h2>Análise de Sistemas</h2>\n",
    "<h3>Definição da Função de Transferência</h3>"
   ]
  },
  {
   "cell_type": "code",
   "execution_count": 109,
   "id": "0b557862",
   "metadata": {},
   "outputs": [
    {
     "name": "stdout",
     "output_type": "stream",
     "text": [
      "Expression:\n"
     ]
    },
    {
     "data": {
      "text/latex": [
       "T(s) = $\\frac{1}{s^3+s^2.30+s.300+1000}$"
      ],
      "text/plain": [
       "<IPython.core.display.Latex object>"
      ]
     },
     "metadata": {},
     "output_type": "display_data"
    }
   ],
   "source": [
    "s = sp.Symbol(\"s\")\n",
    "w = sp.Symbol(\"w\")\n",
    "\n",
    "#Não esquecer do MAIS ++++ no começo\n",
    "#Multiplicação = \".\" sempre depois da variavel\n",
    "G = f'$\\\\frac{{1}}{{{w}^3+{w}^2.30+{w}.300+1000}}$'\n",
    "aux = G.replace(\"w\",\"s\").strip(\"'\")\n",
    "T = f\"T(s) = {aux}\"\n",
    "\n",
    "print(\"Expression:\")\n",
    "display(Latex(T))"
   ]
  },
  {
   "cell_type": "markdown",
   "id": "c973b344",
   "metadata": {},
   "source": [
    "<h3>Encontrando Polos e Zeros</h3>"
   ]
  },
  {
   "cell_type": "code",
   "execution_count": 110,
   "id": "de5cd4d6",
   "metadata": {},
   "outputs": [
    {
     "name": "stdout",
     "output_type": "stream",
     "text": [
      "Zeros:\n",
      "Polos:\n",
      "-10.000\n"
     ]
    }
   ],
   "source": [
    "T = aux\n",
    "t = ''\n",
    "key = 0\n",
    "\n",
    "for i in range(len(T)):\n",
    "    if T[i] == \"{\":\n",
    "        key += 1\n",
    "    elif T[i] == \"f\":\n",
    "        t += \"(\"\n",
    "    elif T[i] == \"}\":\n",
    "        key -= 1\n",
    "        if (key == 0) and T[i+1] == \"{\":\n",
    "            t += \")/(\"\n",
    "        elif (key == 0) and (T[i+1] == \"$\"):\n",
    "            t += \")\"\n",
    "    elif T[i] == \"^\":\n",
    "        t += \"**\"\n",
    "    elif T[i] == \".\":\n",
    "        t += \"*\"\n",
    "    elif T[i].isnumeric() or T[i] in [\"w\",\"s\",\"+\",\"-\"]:\n",
    "        t += T[i]\n",
    "# end for\n",
    "\n",
    "#print(t)\n",
    "\n",
    "num_t = ''\n",
    "den_t = ''\n",
    "trigger = False\n",
    "for i in range(len(t)):\n",
    "    if t[i] == \"/\":\n",
    "        trigger = True\n",
    "        continue\n",
    "    if trigger == False:\n",
    "        num_t += t[i]\n",
    "    elif trigger == True:\n",
    "        den_t += t[i]\n",
    "\n",
    "#print(num_t,den_t)\n",
    "zeros = sp.sympify(num_t)\n",
    "polos = sp.sympify(den_t)\n",
    "\n",
    "Zeros = sp.solveset(zeros,s)\n",
    "Polos = sp.solveset(polos,s)\n",
    "\n",
    "Zeros_solve = [sol.evalf(n=5)for sol in Zeros]\n",
    "Polos_solve = [sol.evalf(n=5)for sol in Polos]\n",
    "\n",
    "print(\"Zeros:\")\n",
    "for zero in Zeros_solve:\n",
    "    print(f'{zero}')\n",
    "print(\"Polos:\")\n",
    "for polo in Polos_solve:\n",
    "    print(f'{polo}')"
   ]
  },
  {
   "cell_type": "markdown",
   "id": "1c10f8d0",
   "metadata": {},
   "source": [
    "<h3>Tratamento e separação dos termos da FT</h3>"
   ]
  },
  {
   "cell_type": "code",
   "execution_count": 115,
   "id": "a341153b",
   "metadata": {},
   "outputs": [
    {
     "name": "stdout",
     "output_type": "stream",
     "text": [
      "-w**2*30+1000 -w**3+w*300\n",
      "-57.2957795130823*atan2(-w**3 + 300*w, 1000 - 30*w**2)\n",
      "-atan(1/9)\n"
     ]
    }
   ],
   "source": [
    "Cpx = [\"j*\",\"-\",\"-j*\",\"\"]\n",
    "g = ''\n",
    "key = 0\n",
    "#print(G)\n",
    "for i in range(len(G)):\n",
    "    if G[i] == \"{\":\n",
    "        key += 1\n",
    "    elif G[i] == \"f\":\n",
    "        g += \"(\"\n",
    "    elif G[i] == \"}\":\n",
    "        key -= 1\n",
    "        if (key == 0) and G[i+1] == \"{\":\n",
    "            g += \")/(\"\n",
    "        elif (key == 0) and (G[i+1] == \"$\"):\n",
    "            g += \")\"\n",
    "    elif G[i] == \"^\":\n",
    "        g += \"**\"\n",
    "    elif G[i] == \".\":\n",
    "        g += \"*\"\n",
    "    elif G[i].isnumeric() or G[i] in [\"w\",\"s\",\"+\",\"-\"]:\n",
    "        if G[i] == \"w\" and G[i+1] == \"^\":\n",
    "            if (int(G[i+2])%4 - 1 == 0) or (int(G[i+2])%4 - 1 == 3):\n",
    "                g += Cpx[int(G[i+2])%4 - 1]\n",
    "            else:\n",
    "                if G[i-1] in [\"+\",\"{\"]:\n",
    "                    if G[i-1] == \"+\":\n",
    "                        g = g.rstrip(\"+\")\n",
    "                    g += \"-\"\n",
    "                elif G[i-1] == \"-\":\n",
    "                    g = g.rstrip(\"-\")\n",
    "                    if G[i-2] != \"{\":\n",
    "                        g += \"+\"\n",
    "                if (int(G[i+2])%4 - 1) == 2:\n",
    "                    g+=Cpx[0]\n",
    "                      \n",
    "        elif G[i] == \"w\":\n",
    "            g += Cpx[0]\n",
    "        g += G[i]\n",
    "# end for\n",
    "\n",
    "#print(g)\n",
    "num = ''\n",
    "den = ''\n",
    "trigger = False\n",
    "for i in range(len(g)):\n",
    "    if g[i] == \"/\":\n",
    "        trigger = True\n",
    "        continue\n",
    "    if trigger == False:\n",
    "        num += g[i]\n",
    "    elif trigger == True:\n",
    "        den += g[i]\n",
    "\n",
    "def getRe_Im(ep):\n",
    "    number = [\"\",\"\"]\n",
    "    imag = 0\n",
    "    for i in range(len(ep)):\n",
    "        if ep[i] in [\"+\",\"-\",\"(\"]:\n",
    "            for j in range(len(ep)):\n",
    "                if ep[i+j+1] in [\"+\",\"-\",\")\"]:\n",
    "                    imag = 0\n",
    "                    break\n",
    "                elif ep[i+j+1] == \"j\":\n",
    "                    imag = 1\n",
    "                    break\n",
    "            if (ep[i] == \"(\") and (ep[i+1] != \"+\"):\n",
    "                continue\n",
    "            else:\n",
    "                number[imag] += ep[i]\n",
    "        else:\n",
    "            if (ep[i] in [\"(\",\")\"]) or (ep[i] == \"j\") or (ep[i-1] == \"j\"):\n",
    "                continue\n",
    "            else:\n",
    "                number[imag] += ep[i]\n",
    "    \n",
    "    for i in range(2):\n",
    "        if number[i] == \"\":\n",
    "            number[i] = \"0\"\n",
    "    \n",
    "    return number        \n",
    "# end def\n",
    "\n",
    "Num = getRe_Im(num)\n",
    "Den = getRe_Im(den)\n",
    "\n",
    "exp_Num = list()\n",
    "exp_Den = list()\n",
    "\n",
    "#print(Num[0], Num[1])\n",
    "print(Den[0], Den[1])\n",
    "\n",
    "for i in range(2):\n",
    "    exp_Num.append(sp.sympify(Num[i]))\n",
    "    exp_Den.append(sp.sympify(Den[i]))\n",
    "\n",
    "Amp = ((exp_Num[0]**2 + exp_Num[1]**2) / (exp_Den[0]**2 + exp_Den[1]**2))**(1/2)\n",
    "\n",
    "Phase = (sp.atan2(exp_Num[1],exp_Num[0])-sp.atan2(exp_Den[1],exp_Den[0]))*180/math.pi\n",
    "\n",
    "print(Phase)\n",
    "print(sp.atan2(-1,9))"
   ]
  },
  {
   "cell_type": "markdown",
   "id": "0769cc95",
   "metadata": {},
   "source": [
    "<h3>Definição dos parâmetros do Diagrama de Bode</h3>"
   ]
  },
  {
   "cell_type": "code",
   "execution_count": 116,
   "id": "499c8244",
   "metadata": {},
   "outputs": [],
   "source": [
    "x_range = [10**(-5),10**5]\n",
    "Amp_range = [-100, 100]\n",
    "Phase_range = [-180,180]"
   ]
  },
  {
   "cell_type": "markdown",
   "id": "be405a7d",
   "metadata": {},
   "source": [
    "<h3>Amplitude</h3>"
   ]
  },
  {
   "cell_type": "code",
   "execution_count": 117,
   "id": "ae414b6c",
   "metadata": {},
   "outputs": [
    {
     "data": {
      "image/png": "[encoded data removed]",
      "text/plain": [
       "<Figure size 500x500 with 1 Axes>"
      ]
     },
     "metadata": {},
     "output_type": "display_data"
    }
   ],
   "source": [
    "w_valores = np.linspace(10**(-10),10**5,10**6)\n",
    "f_Amp = sp.lambdify(w,Amp,'numpy')\n",
    "Amp_valores = f_Amp(w_valores)\n",
    "\n",
    "plt.figure(figsize=(5, 5))\n",
    "\n",
    "plt.plot(w_valores,20*np.log10(Amp_valores))\n",
    "plt.xscale('log')\n",
    "plt.title('Diagrama de Bode')\n",
    "plt.xlabel('log(w)')\n",
    "plt.ylabel('Amplitude dB')\n",
    "plt.xlim(x_range[0],x_range[1])\n",
    "\n",
    "#plt.ylim(Amp_range[0],Amp_range[1])\n",
    "\n",
    "#plt.yticks(np.arange(Amp_range[0],Amp_range[1]+(Amp_range[1]-Amp_range[0])/10,(Amp_range[1]-Amp_range[0])/10))\n",
    "\n",
    "plt.grid(True)\n",
    "plt.show()"
   ]
  },
  {
   "cell_type": "markdown",
   "id": "119261a8",
   "metadata": {},
   "source": [
    "<h3>Fase</h3>"
   ]
  },
  {
   "cell_type": "code",
   "execution_count": 118,
   "id": "bc8f1d88",
   "metadata": {},
   "outputs": [
    {
     "data": {
      "image/png": "[encoded data removed]",
      "text/plain": [
       "<Figure size 500x500 with 1 Axes>"
      ]
     },
     "metadata": {},
     "output_type": "display_data"
    }
   ],
   "source": [
    "f_Phase = sp.lambdify(w,Phase,'numpy')\n",
    "Phase_valores = f_Phase(w_valores)\n",
    "\n",
    "plt.figure(figsize=(5, 5))\n",
    "\n",
    "plt.plot(w_valores,Phase_valores)\n",
    "plt.xscale('log')\n",
    "plt.title('Diagrama de Bode')\n",
    "plt.xlabel('log(w)')\n",
    "plt.ylabel('Fase (graus)')\n",
    "plt.xlim(x_range[0],x_range[1])\n",
    "\n",
    "plt.ylim(Phase_range[0],Phase_range[1])\n",
    "plt.yticks(np.arange(Phase_range[0],Phase_range[1]+(Phase_range[1]-Phase_range[0])/10,(Phase_range[1]-Phase_range[0])/10))\n",
    "plt.grid(True)\n",
    "plt.show()"
   ]
  },
  {
   "cell_type": "code",
   "execution_count": null,
   "id": "320a7891",
   "metadata": {},
   "outputs": [],
   "source": []
  }
 ],
 "metadata": {
  "kernelspec": {
   "display_name": "Python 3 (ipykernel)",
   "language": "python",
   "name": "python3"
  },
  "language_info": {
   "codemirror_mode": {
    "name": "ipython",
    "version": 3
   },
   "file_extension": ".py",
   "mimetype": "text/x-python",
   "name": "python",
   "nbconvert_exporter": "python",
   "pygments_lexer": "ipython3",
   "version": "3.11.5"
  }
 },
 "nbformat": 4,
 "nbformat_minor": 5
}
